{
 "cells": [
  {
   "cell_type": "markdown",
   "id": "338b8fdf",
   "metadata": {
    "ExecuteTime": {
     "end_time": "2023-02-15T16:02:22.146782Z",
     "start_time": "2023-02-15T16:02:22.142145Z"
    },
    "heading_collapsed": true,
    "slideshow": {
     "slide_type": "slide"
    }
   },
   "source": [
    "# Understanding Model-free vs Model-based influences on behavioural choice from the perspective of reinforcement learning\n",
    "\n",
    "### by Tamas Spisak\n",
    "#### University Hopsital Essen\n",
    "\n",
    "<center> <img src=\"fig/typo.png\"  width=\"200\" height=\"200\" center></center>\n",
    " \n",
    "\n"
   ]
  },
  {
   "cell_type": "markdown",
   "id": "6015ac71",
   "metadata": {
    "slideshow": {
     "slide_type": "slide"
    }
   },
   "source": [
    "# Background"
   ]
  },
  {
   "cell_type": "markdown",
   "id": "501b325d",
   "metadata": {
    "ExecuteTime": {
     "end_time": "2023-02-15T14:53:11.426147Z",
     "start_time": "2023-02-15T14:53:11.422020Z"
    },
    "slideshow": {
     "slide_type": "fragment"
    }
   },
   "source": [
    "\\begin{equation}\n",
    "E = F \\cdot s \n",
    "\\end{equation}"
   ]
  },
  {
   "cell_type": "code",
   "execution_count": 10,
   "id": "a2df475e",
   "metadata": {
    "ExecuteTime": {
     "end_time": "2023-02-15T16:12:29.718245Z",
     "start_time": "2023-02-15T16:12:29.715471Z"
    },
    "slideshow": {
     "slide_type": "fragment"
    }
   },
   "outputs": [
    {
     "name": "stdout",
     "output_type": "stream",
     "text": [
      "Hello\n"
     ]
    }
   ],
   "source": [
    "print('Hello')"
   ]
  },
  {
   "cell_type": "markdown",
   "id": "7fcf457b",
   "metadata": {
    "slideshow": {
     "slide_type": "slide"
    }
   },
   "source": [
    "# Markov decision process"
   ]
  },
  {
   "cell_type": "markdown",
   "id": "898af827",
   "metadata": {
    "slideshow": {
     "slide_type": "slide"
    }
   },
   "source": [
    "- model-free SARSA learner\n",
    "- model-based FORWARD learner"
   ]
  },
  {
   "cell_type": "markdown",
   "id": "1c7c81ee",
   "metadata": {
    "ExecuteTime": {
     "end_time": "2023-02-15T16:26:18.697197Z",
     "start_time": "2023-02-15T16:26:18.693134Z"
    },
    "slideshow": {
     "slide_type": "slide"
    }
   },
   "source": []
  },
  {
   "cell_type": "code",
   "execution_count": null,
   "id": "a1dde5c7",
   "metadata": {},
   "outputs": [],
   "source": []
  }
 ],
 "metadata": {
  "celltoolbar": "Slideshow",
  "hide_input": false,
  "kernelspec": {
   "display_name": "Python 3",
   "language": "python",
   "name": "python3"
  },
  "language_info": {
   "codemirror_mode": {
    "name": "ipython",
    "version": 3
   },
   "file_extension": ".py",
   "mimetype": "text/x-python",
   "name": "python",
   "nbconvert_exporter": "python",
   "pygments_lexer": "ipython3",
   "version": "3.7.4"
  },
  "rise": {
   "start_slideshow_at": "beginning"
  }
 },
 "nbformat": 4,
 "nbformat_minor": 5
}
