{
 "cells": [
  {
   "cell_type": "markdown",
   "id": "40c3baa2",
   "metadata": {
    "ExecuteTime": {
     "end_time": "2023-02-15T16:02:22.146782Z",
     "start_time": "2023-02-15T16:02:22.142145Z"
    },
    "slideshow": {
     "slide_type": "slide"
    }
   },
   "source": [
    "# Understanding Model-free vs Model-based influences on behavioural choice from the perspective of reinforcement learning\n",
    "\n",
    "### by Tamas Spisak\n",
    "#### University Hopsital Essen\n"
   ]
  },
  {
   "cell_type": "markdown",
   "id": "768507b3",
   "metadata": {
    "slideshow": {
     "slide_type": "slide"
    }
   },
   "source": [
    "# The Simbad-problem"
   ]
  },
  {
   "cell_type": "markdown",
   "id": "81a9b9e8",
   "metadata": {
    "ExecuteTime": {
     "end_time": "2023-02-15T14:53:11.426147Z",
     "start_time": "2023-02-15T14:53:11.422020Z"
    },
    "slideshow": {
     "slide_type": "fragment"
    }
   },
   "source": [
    "<tr>\n",
    "<td> Gyula Krúdy (1878 - 1933) </td>\n",
    "<td> <img src=\"fig/krudy.jpg\" alt=\"Drawing\" style=\"width: 150px; right\"/> </td>\n",
    "</tr>"
   ]
  },
  {
   "cell_type": "markdown",
   "id": "d1ba56df",
   "metadata": {
    "ExecuteTime": {
     "end_time": "2023-02-16T14:29:37.295548Z",
     "start_time": "2023-02-16T14:29:37.279091Z"
    },
    "slideshow": {
     "slide_type": "fragment"
    }
   },
   "source": [
    "<tr>\n",
    "<td> Alfréd Rényi (1921–1970) </td>\n",
    "<td> <img src=\"fig/renyi.webp\" alt=\"Drawing\" style=\"width: 150px; right\"/> </td>\n",
    "</tr>"
   ]
  },
  {
   "cell_type": "markdown",
   "id": "d97f4ac1",
   "metadata": {
    "slideshow": {
     "slide_type": "subslide"
    }
   },
   "source": [
    "# The Simbad-problem\n",
    "\n",
    "\n",
    "<center> <img src=\"fig/simbad.png\"  width=\"600\" height=\"600\" center></center>\n",
    "\n",
    "<span style=\"font-size: 1.5rem\">Made with DALL-E.</span>\n"
   ]
  },
  {
   "cell_type": "markdown",
   "id": "b9f899c9",
   "metadata": {
    "slideshow": {
     "slide_type": "slide"
    }
   },
   "source": [
    "# Markov decision process"
   ]
  },
  {
   "cell_type": "markdown",
   "id": "f5d21e70",
   "metadata": {
    "slideshow": {
     "slide_type": "fragment"
    }
   },
   "source": [
    "A stochastic decision-making process"
   ]
  },
  {
   "cell_type": "markdown",
   "id": "43663126",
   "metadata": {
    "slideshow": {
     "slide_type": "fragment"
    }
   },
   "source": [
    "$S$: states $(s ∈ S)$"
   ]
  },
  {
   "cell_type": "markdown",
   "id": "9793a2eb",
   "metadata": {
    "slideshow": {
     "slide_type": "fragment"
    }
   },
   "source": [
    "$A$: Actions $(a ∈ A)$"
   ]
  },
  {
   "cell_type": "markdown",
   "id": "49f713f0",
   "metadata": {
    "slideshow": {
     "slide_type": "fragment"
    }
   },
   "source": [
    "$P(S_{t+1}|s_t, a_t)$: Transition probabilities"
   ]
  },
  {
   "cell_type": "markdown",
   "id": "d1f96d63",
   "metadata": {
    "ExecuteTime": {
     "end_time": "2023-02-16T15:16:48.356197Z",
     "start_time": "2023-02-16T15:16:48.334650Z"
    },
    "slideshow": {
     "slide_type": "fragment"
    }
   },
   "source": [
    "$R(s)$: Reward"
   ]
  },
  {
   "cell_type": "markdown",
   "id": "1cb0acd5",
   "metadata": {
    "ExecuteTime": {
     "end_time": "2023-02-16T15:18:52.623205Z",
     "start_time": "2023-02-16T15:18:52.616256Z"
    },
    "slideshow": {
     "slide_type": "subslide"
    }
   },
   "source": [
    "<tr>\n",
    "<td> \n",
    "    \n",
    "# Markov decision process\n",
    "\n",
    "A stochastic decision-making process\n",
    "\n",
    "$S$: states $(s ∈ S)$\n",
    "    \n",
    "$A$: Actions $(a ∈ A)$ \n",
    "    \n",
    "<span style=\"color: white;\">$P(S_{t+1}|s_t, a_t)$: Transition probabilities</span>\n",
    "\n",
    "<span style=\"color: white;\">$R(s)$: Reward</span>\n",
    "</td>\n",
    "<td> <img src=\"fig/MDP.png\" alt=\"Drawing\" style=\"width: 500px; right\"/> </td>\n",
    "</tr>"
   ]
  },
  {
   "cell_type": "markdown",
   "id": "903a5de0",
   "metadata": {
    "ExecuteTime": {
     "end_time": "2023-02-16T15:18:52.623205Z",
     "start_time": "2023-02-16T15:18:52.616256Z"
    },
    "slideshow": {
     "slide_type": "subslide"
    }
   },
   "source": [
    "<tr>\n",
    "<td> \n",
    "    \n",
    "# Markov decision process\n",
    "\n",
    "A stochastic decision-making process\n",
    "\n",
    "$S$: states $(s ∈ S)$\n",
    "    \n",
    "$A$: Actions $(a ∈ A)$ \n",
    "    \n",
    "$P(S_{t+1}|s_t, a_t)$: Transition probabilities\n",
    "    \n",
    "$R(s)$: Reward </td>\n",
    "<td> <img src=\"fig/MDP.png\" alt=\"Drawing\" style=\"width: 500px; right\"/> </td>\n",
    "</tr>"
   ]
  },
  {
   "cell_type": "markdown",
   "id": "b280b142",
   "metadata": {
    "slideshow": {
     "slide_type": "slide"
    }
   },
   "source": [
    "# The Simbad-problem as a Markov decision process"
   ]
  },
  {
   "cell_type": "code",
   "execution_count": null,
   "id": "0e2d0304",
   "metadata": {},
   "outputs": [],
   "source": []
  },
  {
   "cell_type": "markdown",
   "id": "8f35eec1",
   "metadata": {
    "slideshow": {
     "slide_type": "slide"
    }
   },
   "source": [
    "- model-free SARSA learner\n",
    "- model-based FORWARD learner"
   ]
  },
  {
   "cell_type": "markdown",
   "id": "cfdd91d6",
   "metadata": {
    "ExecuteTime": {
     "end_time": "2023-02-15T16:26:18.697197Z",
     "start_time": "2023-02-15T16:26:18.693134Z"
    },
    "slideshow": {
     "slide_type": "slide"
    }
   },
   "source": []
  },
  {
   "cell_type": "code",
   "execution_count": null,
   "id": "cc0bf456",
   "metadata": {},
   "outputs": [],
   "source": []
  }
 ],
 "metadata": {
  "celltoolbar": "Slideshow",
  "hide_input": false,
  "kernelspec": {
   "display_name": "Python 3",
   "language": "python",
   "name": "python3"
  },
  "language_info": {
   "codemirror_mode": {
    "name": "ipython",
    "version": 3
   },
   "file_extension": ".py",
   "mimetype": "text/x-python",
   "name": "python",
   "nbconvert_exporter": "python",
   "pygments_lexer": "ipython3",
   "version": "3.7.4"
  },
  "rise": {
   "start_slideshow_at": "beginning"
  }
 },
 "nbformat": 4,
 "nbformat_minor": 5
}
